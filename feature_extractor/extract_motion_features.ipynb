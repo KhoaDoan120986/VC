{
 "cells": [
  {
   "cell_type": "code",
   "execution_count": 1,
   "id": "33ac7ba9",
   "metadata": {},
   "outputs": [],
   "source": [
    "from InceptionI3d import InceptionI3d\n",
    "import cv2\n",
    "import glob\n",
    "import h5py\n",
    "import os\n",
    "from tqdm import tqdm\n",
    "import torch\n",
    "import torchvision.transforms as transforms\n",
    "from PIL import Image"
   ]
  },
  {
   "cell_type": "code",
   "execution_count": 2,
   "id": "fda82b80",
   "metadata": {},
   "outputs": [
    {
     "name": "stdout",
     "output_type": "stream",
     "text": [
      "\n"
     ]
    }
   ],
   "source": [
    "class args:\n",
    "    num_features = 400\n",
    "    num_features_logits = 1024\n",
    "    max_frames = 20\n",
    "    \n",
    "\n",
    "i3d = InceptionI3d(400, in_channels=3)\n",
    "i3d.load_state_dict(torch.load('rgb_imagenet.pt'))\n",
    "i3d.cuda()\n",
    "print()"
   ]
  },
  {
   "cell_type": "code",
   "execution_count": 3,
   "id": "700bea6d",
   "metadata": {},
   "outputs": [],
   "source": [
    "mean = [0.5, 0.5, 0.5]\n",
    "std = [0.5, 0.5, 0.5]\n",
    "data_transform_i3d = transforms.Compose([\n",
    "        transforms.Resize(256),\n",
    "        transforms.CenterCrop(224),\n",
    "        transforms.ToTensor(),\n",
    "        transforms.Normalize(mean, std)])\n",
    "\n",
    "def extract_frames(video_path, fps=1, max_frames=20, clip_len=16):\n",
    "    cap = cv2.VideoCapture(video_path)\n",
    "    video_fps = cap.get(cv2.CAP_PROP_FPS)\n",
    "    frame_interval = int(video_fps // fps) if video_fps > 0 else 1\n",
    "\n",
    "    # Load all frames\n",
    "    all_frames = []\n",
    "    while True:\n",
    "        ret, frame = cap.read()\n",
    "        if not ret:\n",
    "            break\n",
    "        frame = cv2.cvtColor(frame, cv2.COLOR_BGR2RGB)\n",
    "        all_frames.append(Image.fromarray(frame))\n",
    "    cap.release()\n",
    "\n",
    "    total_frames = len(all_frames)\n",
    "    if total_frames < clip_len:\n",
    "        print(\"⚠️ Video too short for motion extraction.\")\n",
    "        return None\n",
    "    \n",
    "    motion_clips = []\n",
    "    start_indices = list(range(0, total_frames - clip_len + 1, frame_interval))\n",
    "\n",
    "    for start in start_indices:\n",
    "        if len(motion_clips) >= max_frames:\n",
    "            break\n",
    "        clip = all_frames[start: start + clip_len]\n",
    "        if len(clip) < clip_len:\n",
    "            continue\n",
    "        clip_tensor = torch.stack([data_transform_i3d(f) for f in clip], dim=1)  # (3, 16, H, W)\n",
    "        motion_clips.append(clip_tensor)\n",
    "\n",
    "    if len(motion_clips) == 0:\n",
    "        print(\"⚠️ Not enough clips extracted.\")\n",
    "        return None\n",
    "\n",
    "    return torch.stack(motion_clips) "
   ]
  },
  {
   "cell_type": "code",
   "execution_count": 4,
   "id": "752bc24a",
   "metadata": {},
   "outputs": [
    {
     "name": "stderr",
     "output_type": "stream",
     "text": [
      "Extracting features: 100%|██████████| 1970/1970 [45:19<00:00,  1.38s/it] \n"
     ]
    }
   ],
   "source": [
    "video_paths = glob.glob(os.path.join('../../Dataset/MSVD/raw/', '*.avi'))\n",
    "with h5py.File('../data/MSVD/features/MSVD_motion_clip.hdf5', 'w') as f:\n",
    "    for video_path in tqdm(video_paths, desc=\"Extracting features\"):\n",
    "        video_name = os.path.splitext(os.path.basename(video_path))[0]\n",
    "        frames = extract_frames(video_path)\n",
    "        motion_features = []\n",
    "        for i in range(frames.shape[0]):\n",
    "            feat = i3d.extract_features(frames[i].unsqueeze(0).cuda()).cpu().detach()\n",
    "            motion_features.append(feat.squeeze())\n",
    "        motion_features = torch.stack(motion_features)        \n",
    "        f.create_dataset(video_name, data=motion_features)"
   ]
  }
 ],
 "metadata": {
  "kernelspec": {
   "display_name": "mainK",
   "language": "python",
   "name": "python3"
  },
  "language_info": {
   "codemirror_mode": {
    "name": "ipython",
    "version": 3
   },
   "file_extension": ".py",
   "mimetype": "text/x-python",
   "name": "python",
   "nbconvert_exporter": "python",
   "pygments_lexer": "ipython3",
   "version": "3.10.18"
  }
 },
 "nbformat": 4,
 "nbformat_minor": 5
}
