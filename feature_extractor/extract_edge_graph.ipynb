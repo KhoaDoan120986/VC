{
 "cells": [
  {
   "cell_type": "code",
   "execution_count": 1,
   "id": "8dc38a53",
   "metadata": {},
   "outputs": [],
   "source": [
    "from tqdm import tqdm\n",
    "import torch\n",
    "import h5py\n",
    "import torch.nn.functional as F"
   ]
  },
  {
   "cell_type": "code",
   "execution_count": 2,
   "id": "5c79a1a3",
   "metadata": {},
   "outputs": [],
   "source": [
    "img = {}\n",
    "motion = {}\n",
    "with h5py.File('../data/MSVD/features/MSVD_visual_clip.hdf5', 'r') as fs:\n",
    "    for key in fs.keys():\n",
    "        img[key] = fs[key][()]\n",
    "\n",
    "with h5py.File('../data/MSVD/features/MSVD_motion_clip.hdf5', 'r') as fs:\n",
    "    for key in fs.keys():\n",
    "        motion[key] = fs[key][()]"
   ]
  },
  {
   "cell_type": "code",
   "execution_count": 3,
   "id": "6f0a9aca",
   "metadata": {},
   "outputs": [],
   "source": [
    "max_frame = 20"
   ]
  },
  {
   "cell_type": "code",
   "execution_count": 4,
   "id": "c8f28280",
   "metadata": {},
   "outputs": [
    {
     "name": "stderr",
     "output_type": "stream",
     "text": [
      "100%|██████████| 1970/1970 [00:15<00:00, 130.93it/s]\n"
     ]
    }
   ],
   "source": [
    "with h5py.File(\"../data/MSVD/features/MSVD_edge_clip.hdf5\", \"w\") as fs:\n",
    "    for video_id in tqdm(img.keys()):\n",
    "\n",
    "        idx = torch.arange(max_frame)\n",
    "        edge_index = torch.cat([\n",
    "            torch.stack([idx, idx], dim=0),   # (2, 20)\n",
    "            torch.stack([idx[:-1], idx[1:]], dim=0)    # (2, 19)\n",
    "        ], dim=1)\n",
    "\n",
    "        # =====> MOTION <=====\n",
    "        motion_feature = torch.from_numpy(motion[video_id])\n",
    "        num_frames, feat_dim = motion_feature.shape\n",
    "        pad_len = max_frame - num_frames\n",
    "        \n",
    "        if pad_len < 0:\n",
    "            motion_feature = motion_feature[:max_frame]\n",
    "        else:\n",
    "            pad_feat = torch.zeros((pad_len, feat_dim), dtype=motion_feature.dtype)\n",
    "            motion_feature = torch.cat([motion_feature, pad_feat], dim=0)\n",
    "\n",
    "\n",
    "        # =====> VISUAL <=====\n",
    "        visual_feature = torch.from_numpy(img[video_id])\n",
    "        norm_a = torch.norm(visual_feature[:-1], dim=1, keepdim=True)\n",
    "        norm_b = torch.norm(visual_feature[1:], dim=1, keepdim=True)\n",
    "        upper_diag = (visual_feature[:-1] * visual_feature[1:]) / ((norm_a * norm_b))\n",
    "\n",
    "        num_frames, feat_dim = upper_diag.shape\n",
    "        pad_len = max_frame - num_frames - 1\n",
    "        if pad_len < 0:\n",
    "            upper_diag = upper_diag[:max_frame, :]\n",
    "        else:\n",
    "            pad_feat = torch.zeros((pad_len, feat_dim), dtype=upper_diag.dtype)\n",
    "            upper_diag = torch.cat([upper_diag, pad_feat], dim=0)\n",
    "        pad = torch.zeros(upper_diag.shape[0], motion_feature.shape[1] - upper_diag.shape[1])\n",
    "        upper_diag = torch.cat([upper_diag, pad], dim=1)\n",
    "        \n",
    "        \n",
    "        # Edge Graph\n",
    "        edge_attr = torch.zeros(edge_index.shape[1], motion_feature.shape[1])\n",
    "        edge_attr[:20] = motion_feature\n",
    "        edge_attr[20:] = upper_diag\n",
    "        grp = fs.create_group(video_id)\n",
    "        grp.create_dataset(\"edge_index\", data=edge_index.numpy())\n",
    "        grp.create_dataset(\"edge_attr\", data=edge_attr.numpy())"
   ]
  }
 ],
 "metadata": {
  "kernelspec": {
   "display_name": "mainK",
   "language": "python",
   "name": "python3"
  },
  "language_info": {
   "codemirror_mode": {
    "name": "ipython",
    "version": 3
   },
   "file_extension": ".py",
   "mimetype": "text/x-python",
   "name": "python",
   "nbconvert_exporter": "python",
   "pygments_lexer": "ipython3",
   "version": "3.10.18"
  }
 },
 "nbformat": 4,
 "nbformat_minor": 5
}
