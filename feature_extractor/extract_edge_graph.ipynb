{
 "cells": [
  {
   "cell_type": "code",
   "execution_count": 1,
   "id": "8dc38a53",
   "metadata": {},
   "outputs": [],
   "source": [
    "from tqdm import tqdm\n",
    "import torch\n",
    "import h5py\n",
    "import torch.nn.functional as F"
   ]
  },
  {
   "cell_type": "code",
   "execution_count": 2,
   "id": "5c79a1a3",
   "metadata": {},
   "outputs": [],
   "source": [
    "img = {}\n",
    "motion = {}\n",
    "with h5py.File('../data/MSVD/features/MSVD_visual_clip.hdf5', 'r') as fs:\n",
    "    for key in fs.keys():\n",
    "        img[key] = fs[key][()]\n",
    "\n",
    "with h5py.File('../data/MSVD/features/MSVD_motion_clip.hdf5', 'r') as fs:\n",
    "    for key in fs.keys():\n",
    "        motion[key] = fs[key][()]"
   ]
  },
  {
   "cell_type": "code",
   "execution_count": 3,
   "id": "6f0a9aca",
   "metadata": {},
   "outputs": [],
   "source": [
    "max_frame = 20"
   ]
  },
  {
   "cell_type": "code",
   "execution_count": 4,
   "id": "c8f28280",
   "metadata": {},
   "outputs": [
    {
     "name": "stderr",
     "output_type": "stream",
     "text": [
      "100%|██████████| 1970/1970 [00:38<00:00, 50.78it/s] \n"
     ]
    }
   ],
   "source": [
    "with h5py.File(\"../data/MSVD/features/MSVD_edge_clip.hdf5\", \"w\") as fs:\n",
    "    for video_id in tqdm(img.keys()):\n",
    "\n",
    "        # =====> VISUAL <=====\n",
    "        visual_feature = torch.from_numpy(img[video_id])\n",
    "        num_frames, feat_dim = visual_feature.shape\n",
    "        pad_len = max_frame - num_frames\n",
    "        \n",
    "        if pad_len < 0:\n",
    "            visual_feature = visual_feature[:max_frame]\n",
    "        else:\n",
    "            pad_feat = torch.zeros((pad_len, feat_dim), dtype=visual_feature.dtype)\n",
    "            visual_feature = torch.cat([visual_feature, pad_feat], dim=0)\n",
    "\n",
    "        # =====> MOTION <=====\n",
    "        motion_feature = torch.from_numpy(motion[video_id])\n",
    "        num_frames, feat_dim = motion_feature.shape\n",
    "        pad_len = max_frame - num_frames\n",
    "        \n",
    "        if pad_len < 0:\n",
    "            motion_feature = motion_feature[:max_frame]\n",
    "        else:\n",
    "            pad_feat = torch.zeros((pad_len, feat_dim), dtype=motion_feature.dtype)\n",
    "            motion_feature = torch.cat([motion_feature, pad_feat], dim=0)\n",
    "\n",
    "        # Edge Graph\n",
    "        cos = F.cosine_similarity(visual_feature[:-1], visual_feature[1:], dim=-1) \n",
    "        cos_softmax  = F.softmax(cos, dim=0)\n",
    "        edge_feats = torch.zeros(max_frame, max_frame, feat_dim)\n",
    "        idx = torch.arange(max_frame)\n",
    "        for i in range(max_frame):\n",
    "            edge_feats[i, idx, idx] = motion_feature[:, i]\n",
    "            edge_feats[i, idx[:-1], idx[1:]] = cos_softmax\n",
    "        fs.create_dataset(video_id, data=edge_feats)\n"
   ]
  }
 ],
 "metadata": {
  "kernelspec": {
   "display_name": "mainK",
   "language": "python",
   "name": "python3"
  },
  "language_info": {
   "codemirror_mode": {
    "name": "ipython",
    "version": 3
   },
   "file_extension": ".py",
   "mimetype": "text/x-python",
   "name": "python",
   "nbconvert_exporter": "python",
   "pygments_lexer": "ipython3",
   "version": "3.10.18"
  }
 },
 "nbformat": 4,
 "nbformat_minor": 5
}
