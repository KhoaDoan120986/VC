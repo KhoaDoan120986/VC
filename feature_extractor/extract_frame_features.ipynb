{
 "cells": [
  {
   "cell_type": "code",
   "execution_count": 1,
   "id": "9293ffc7",
   "metadata": {},
   "outputs": [
    {
     "name": "stderr",
     "output_type": "stream",
     "text": [
      "Disabling PyTorch because PyTorch >= 2.1 is required but found 1.13.0+cu116\n",
      "None of PyTorch, TensorFlow >= 2.0, or Flax have been found. Models won't be available and only tokenizers, configuration and file/data utilities can be used.\n"
     ]
    }
   ],
   "source": [
    "from open_clip import create_model_from_pretrained, get_tokenizer\n",
    "import cv2\n",
    "from PIL import Image\n",
    "import torch\n",
    "import numpy as np\n",
    "import glob\n",
    "import os\n",
    "import h5py\n",
    "from tqdm import tqdm\n"
   ]
  },
  {
   "cell_type": "code",
   "execution_count": 2,
   "id": "83a81496",
   "metadata": {},
   "outputs": [],
   "source": [
    "def extract_frames(video_path, fps=1, max_frames=20):\n",
    "    cap = cv2.VideoCapture(video_path)\n",
    "    video_fps = cap.get(cv2.CAP_PROP_FPS)\n",
    "    frame_interval = int(video_fps / fps)\n",
    "    frames = []\n",
    "    count = 0\n",
    "\n",
    "    while cap.isOpened() and len(frames) < max_frames:\n",
    "        ret, frame = cap.read()\n",
    "        if not ret:\n",
    "            break\n",
    "        if count % frame_interval == 0:\n",
    "            frame = cv2.cvtColor(frame, cv2.COLOR_BGR2RGB)\n",
    "            frames.append(Image.fromarray(frame))\n",
    "        count += 1\n",
    "    cap.release()\n",
    "    return frames "
   ]
  },
  {
   "cell_type": "code",
   "execution_count": 3,
   "id": "13371655",
   "metadata": {},
   "outputs": [],
   "source": [
    "model, preprocess = create_model_from_pretrained('hf-hub:apple/DFN2B-CLIP-ViT-B-16') #xclip\n",
    "tokenizer = get_tokenizer('ViT-B-16')\n",
    "\n",
    "model.cuda()\n",
    "def extract_clip_features(frames):\n",
    "    images = [preprocess(img).unsqueeze(0) for img in frames]\n",
    "    images = torch.cat(images).to('cuda')  \n",
    "\n",
    "    with torch.no_grad():\n",
    "        features = model.encode_image(images)\n",
    "        features = features / features.norm(dim=-1, keepdim=True) \n",
    "\n",
    "    return features.cpu().numpy()  # shape: (20, 512)\n"
   ]
  },
  {
   "cell_type": "code",
   "execution_count": 4,
   "id": "761718c2",
   "metadata": {},
   "outputs": [
    {
     "name": "stderr",
     "output_type": "stream",
     "text": [
      "Extracting features: 100%|██████████| 1970/1970 [21:32<00:00,  1.52it/s]\n"
     ]
    }
   ],
   "source": [
    "#distilbert/distilgpt2\n",
    "video_paths = glob.glob(os.path.join('../Dataset/MSVD/raw/', '*.avi'))\n",
    "# video_paths = video_paths[8000:10000]\n",
    "with h5py.File('data/MSVD/features/MSVD_visual_clip.hdf5', 'w') as f:\n",
    "    for video_path in tqdm(video_paths, desc=\"Extracting features\"):\n",
    "        video_name = os.path.splitext(os.path.basename(video_path))[0]\n",
    "        frames = extract_frames(video_path)\n",
    "        features = extract_clip_features(frames)\n",
    "        \n",
    "        f.create_dataset(video_name, data=features)"
   ]
  }
 ],
 "metadata": {
  "kernelspec": {
   "display_name": "mainK",
   "language": "python",
   "name": "python3"
  },
  "language_info": {
   "codemirror_mode": {
    "name": "ipython",
    "version": 3
   },
   "file_extension": ".py",
   "mimetype": "text/x-python",
   "name": "python",
   "nbconvert_exporter": "python",
   "pygments_lexer": "ipython3",
   "version": "3.10.18"
  }
 },
 "nbformat": 4,
 "nbformat_minor": 5
}
