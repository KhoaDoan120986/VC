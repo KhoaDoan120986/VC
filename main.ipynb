{
 "cells": [
  {
   "cell_type": "code",
   "execution_count": null,
   "id": "0bed5e72",
   "metadata": {},
   "outputs": [],
   "source": [
    "from tqdm import tqdm\n",
    "import numpy as np\n",
    "import random\n",
    "import torch\n",
    "import re\n",
    "\n",
    "from torch.utils.data import Dataset, RandomSampler, DataLoader, SequentialSampler\n",
    "from transformers import Blip2ForConditionalGeneration, AutoTokenizer\n",
    "from transformers import get_linear_schedule_with_warmup\n",
    "\n",
    "from dataloader import MSVDDataset\n",
    "from model import VCModel\n",
    "from utils import train, test, get_groundtruth_captions, get_predicted_captions, score"
   ]
  },
  {
   "cell_type": "code",
   "execution_count": null,
   "id": "b2004333",
   "metadata": {},
   "outputs": [],
   "source": [
    "def prep_optimizer(model, len_train_iter, config, device):\n",
    "    param_optimizer = list(model.named_parameters())\n",
    "    no_decay = ['bias', 'LayerNorm.bias', 'LayerNorm.weight']\n",
    "    decay_params = [p for n, p in param_optimizer if not any(nd in n for nd in no_decay)]\n",
    "    no_decay_params = [p for n, p in param_optimizer if any(nd in n for nd in no_decay)]\n",
    "    print(len(decay_params), len(no_decay_params))\n",
    "    optimizer_grouped_parameters = [\n",
    "        {'params': decay_params, 'weight_decay': config.weight_decay},\n",
    "        {'params': no_decay_params, 'weight_decay': 0.0,},\n",
    "    ]\n",
    "\n",
    "    optimizer = torch.optim.AdamW(optimizer_grouped_parameters, lr=config.lr)\n",
    "    num_training_steps = int(len_train_iter / config.gradient_accumulation_steps) * config.epochs\n",
    "    num_warmup_steps = int(0.1 * num_training_steps)\n",
    "    lr_scheduler = get_linear_schedule_with_warmup(optimizer, num_warmup_steps, num_training_steps)\n",
    "\n",
    "\n",
    "    return optimizer, lr_scheduler, model.to(device)"
   ]
  },
  {
   "cell_type": "code",
   "execution_count": null,
   "id": "27fd6a87",
   "metadata": {},
   "outputs": [],
   "source": [
    "def MSVD_Dataloader(path, phase, tokenizer, config):\n",
    "    dataset = MSVDDataset(\n",
    "        path=path,\n",
    "        phase=phase,\n",
    "        tokenizer=tokenizer,\n",
    "        max_frame=config.max_frames,\n",
    "        max_seq_len=config.max_seq_len\n",
    "    )\n",
    "    if phase == 'train':\n",
    "        sampler = RandomSampler(dataset, replacement=False)\n",
    "    else:\n",
    "        sampler = SequentialSampler(dataset)\n",
    "\n",
    "    data_loader = DataLoader(\n",
    "        dataset,\n",
    "        batch_size=config.batch_size,\n",
    "        shuffle=False,\n",
    "        sampler=sampler,\n",
    "        pin_memory=True\n",
    "    )\n",
    "    return data_loader"
   ]
  },
  {
   "cell_type": "code",
   "execution_count": null,
   "id": "9610b375",
   "metadata": {},
   "outputs": [],
   "source": [
    "class config:\n",
    "    local_rank = 0\n",
    "    semantic_dim = 512\n",
    "    \n",
    "    visual_num_hidden_layers = 4\n",
    "    d_graph = 1024\n",
    "    node_feat_dim = 512\n",
    "    edge_dim = 1024\n",
    "    hidden_size = 768\n",
    "    project_edge_dim = None\n",
    "    no_skip = False\n",
    "    last_average = False\n",
    "    no_beta_transformer = False\n",
    "\n",
    "    decoder_name='Salesforce/blip2-flan-t5-xl'\n",
    "\n",
    "    max_frames = 20\n",
    "    max_seq_len = 20\n",
    "    batch_size = 32\n",
    "\n",
    "    epochs = 10\n",
    "    lr = 1e-4\n",
    "    weight_decay = 0.001\n",
    "    gradient_accumulation_steps = 2\n",
    "    gradient_clip = 5.0\n",
    "\n",
    "    path = '/kaggle/input/msvd-and-msrvtt'\n",
    "    device = torch.device(\"cuda\" if torch.cuda.is_available() else \"cpu\")\n",
    "\n",
    "\n",
    "\n",
    "seed = 42\n",
    "random.seed(seed)\n",
    "np.random.seed(seed)\n",
    "torch.manual_seed(seed)\n",
    "torch.cuda.manual_seed_all(seed)\n",
    "torch.backends.cudnn.deterministic = True\n",
    "torch.backends.cudnn.benchmark = False"
   ]
  },
  {
   "cell_type": "code",
   "execution_count": null,
   "id": "6838b73b",
   "metadata": {},
   "outputs": [],
   "source": [
    "tokenizer = AutoTokenizer.from_pretrained(config.decoder_name)\n",
    "\n",
    "train_dataloader = MSVD_Dataloader(config.path, 'train', tokenizer, config)\n",
    "val_dataloader = MSVD_Dataloader(config.path, 'val', tokenizer, config)\n",
    "\n",
    "val_vid2GTs = get_groundtruth_captions(tokenizer, val_dataloader)\n",
    "model = VCModel(tokenizer, config, Blip2ForConditionalGeneration)\n",
    "optimizer, lr_scheduler, model = prep_optimizer(model, len(train_dataloader), config, config.device)"
   ]
  },
  {
   "cell_type": "code",
   "execution_count": null,
   "id": "37f77f7a",
   "metadata": {},
   "outputs": [],
   "source": [
    "for epoch in range(1, config.epochs + 1):\n",
    "    train_loss = train(epoch, train_dataloader, model,\n",
    "                       tokenizer, config.gradient_accumulation_steps,\n",
    "                       optimizer, lr_scheduler, config.gradient_clip, config.device)\n",
    "    val_loss = test(epoch, val_dataloader, model, tokenizer, config.device)\n",
    "    val_vid2pred = get_predicted_captions(model, tokenizer, val_dataloader, config.device)\n",
    "    metric_score =  score(val_vid2pred, val_vid2GTs)\n",
    "    print(\"Epoch {}/{} Train loss: {} \".format(epoch, config.epochs, train_loss))\n",
    "    print(\"Epoch {}/{} Validation loss: {}\".format(epoch, config.epochs, val_loss))\n",
    "    print(\"Score: {}\".format(metric_score))"
   ]
  }
 ],
 "metadata": {
  "kernelspec": {
   "display_name": "mainK",
   "language": "python",
   "name": "python3"
  },
  "language_info": {
   "codemirror_mode": {
    "name": "ipython",
    "version": 3
   },
   "file_extension": ".py",
   "mimetype": "text/x-python",
   "name": "python",
   "nbconvert_exporter": "python",
   "pygments_lexer": "ipython3",
   "version": "3.10.18"
  }
 },
 "nbformat": 4,
 "nbformat_minor": 5
}
